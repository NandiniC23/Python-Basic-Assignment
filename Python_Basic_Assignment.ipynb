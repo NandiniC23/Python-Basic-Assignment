{
  "nbformat": 4,
  "nbformat_minor": 0,
  "metadata": {
    "colab": {
      "provenance": []
    },
    "kernelspec": {
      "name": "python3",
      "display_name": "Python 3"
    },
    "language_info": {
      "name": "python"
    }
  },
  "cells": [
    {
      "cell_type": "markdown",
      "source": [
        "#Python Basics Questions\n",
        "\n",
        "1. **What is Python, and why is it popular?**\n",
        "-  Python is a high-level, interpreted programming language that is widely used for building software applications, websites, automation scripts, data analysis tools, artificial intelligence systems, and more. It was created by Guido van Rossum and first released in 1991.\n",
        "\n",
        "-  **Python has become one of the most popular programming languages in the world. Here are the key reasons -**\n",
        "\n",
        "-  -**Easy to Learn and Use**\n",
        "Simple syntax that reads almost like English.\n",
        "Great for beginners as well as professionals.\n",
        "\n",
        "-  **Used by Top Companies**\n",
        "Companies like Google, YouTube, Instagram, Netflix, and NASA use Python in various parts of their tech stack.\n",
        "\n",
        "  **Cross-Platform**\n",
        "Runs on Windows, Mac, Linux and more.\n",
        "\n",
        "  **Versatile and Multi-Purpose Can be used for**\n",
        "\n",
        "  Web development (e.g. Django, Flask)\n",
        "\n",
        "  Data analysis and visualization (e.g. Pandas, Matplotlib)\n",
        "\n",
        "  Machine learning and AI (e.g. TensorFlow, PyTorch)\n",
        "\n",
        "  Automation and scripting\n",
        "\n",
        "  Game development and more\n",
        "\n",
        "2. **What is an interpreter in Python?**\n",
        "-  An interpreter in Python is a program that reads and executes your Python code line by line.\n",
        "\n",
        "Examples of Python Interpreters:\n",
        "\n",
        "-  CPython – Default and most widely used Python interpreter (written in C)\n",
        "-  PyPy – Faster alternative with Just-In-Time (JIT) compilation\n",
        "-  Jython – Runs Python code on the Java Virtual Machine\n",
        "-  IronPython – Integrates with .NET\n",
        "\n",
        "3. **What are pre-defined keywords in Python?**\n",
        "-  Pre-defined keywords in Python are reserved words that have special meaning in the language.\n",
        "They are used to define the structure, logic, and behavior of Python code.\n",
        "\n",
        "  Common Pre-defined Keywords in Python:\n",
        " -  Control Flow\n",
        " -  Function and Class Definitions\n",
        " -  Boolean and None Value\n",
        " -  Logical Operators\n",
        " -  Exception Handling\n",
        " -  Importing and Modules\n",
        " -  Variable Scope\n",
        " -  Object-Oriented Programming\n",
        "\n",
        "4. **Can keywords be used as variable names?**\n",
        "-  No, keywords cannot be used as variable names in Python.Keywords are reserved words with special meaning in Python's syntax.\n",
        "Using them as variable names would confuse the interpreter.\n",
        "\n",
        "5. **What is mutability in Python?**\n",
        "\n",
        "-   Mutability in Python refers to whether or not an object can be changed after it is created.\n",
        "\n",
        "6. **Why are lists mutable, but tuples are immutable?**\n",
        "-  The reason lists are mutable and tuples are immutable in Python comes down to design choices made for usability, performance, and safety in different contexts. Let’s break this down:\n",
        "\n",
        "**Lists Are Mutable**\n",
        "\n",
        "Purpose: Lists are designed to store sequences of items that may change over time—e.g., adding, removing, or updating elements.\n",
        "\n",
        "Use case: Ideal for dynamic data structures like queues, stacks, or growing collections.\n",
        "\n",
        "Technical behavior: Internally, lists allocate more space than needed to allow efficient appending without needing to copy data every time.\n",
        "\n",
        "**Tuples Are Immutable**\n",
        "\n",
        "Purpose: Tuples are designed for fixed collections of items, often of different types, and are used where immutability is important (e.g., as dictionary keys or set elements).\n",
        "\n",
        "Use case: Useful for data integrity, preventing accidental changes, and as return types for functions.\n",
        "\n",
        "Technical behavior: Since their contents never change, tuples can be stored and accessed more efficiently in memory.\n",
        "\n",
        "So, the mutability of lists vs. tuples isn't an arbitrary decision—it's a deliberate design that allows each type to serve different roles in Python programming.\n",
        "\n",
        "7. **What is the difference between “==” and “is” operators in Python?**\n",
        "-  == and is are both comparison operators, but they check for very different things.\n",
        "\n",
        "| Operator | Checks for              | Example Result                      | Typical Use                         |\n",
        "| -------- | ----------------------- | ----------------------------------- | ----------------------------------- |\n",
        "| `==`     | Equality (same content) | `True` if values match              | Comparing data                      |\n",
        "| `is`     | Identity (same object)  | `True` if both refer to same object | Checking for singletons like `None` |\n",
        "\n",
        "8. **What are logical operators in Python?**\n",
        "\n",
        "-  In Python, logical operators are used to combine Boolean expressions (expressions that evaluate to True or False). They’re essential for controlling program flow using conditions.\n",
        "There are three main logical operators:\n",
        "\n",
        "| Operator | Description                          | Example                  |\n",
        "| -------- | ------------------------------------ | ------------------------ |\n",
        "| `and`    | True if **both** conditions are true | `True and True` → `True` |\n",
        "| `or`     | True if **at least one** is true     | `True or False` → `True` |\n",
        "| `not`    | **Inverts** the truth value          | `not True` → `False`     |\n",
        "\n",
        "9. **What is type casting in Python?**\n",
        "\n",
        "-  Type casting (also called type conversion) is the process of converting a value from one data type to another—for example, turning a string into an integer, or a float into an integer.\n",
        "\n",
        "Python supports both:\n",
        "\n",
        "Implicit type casting (automatic)\n",
        "\n",
        "Explicit type casting (manual)\n",
        "\n",
        "10. **What is the difference between implicit and explicit type casting?**\n",
        "\n",
        "-  **Implicit Type Casting**\n",
        "\n",
        "Done automatically by Python.\n",
        "\n",
        "Happens when Python safely converts one type to another without your intervention.\n",
        "\n",
        "Usually occurs in mixed-type expressions, like combining int and float.\n",
        "\n",
        "\n",
        "-  **Explicit Type Casting**\n",
        "\n",
        "Done manually by the programmer using type functions.\n",
        "\n",
        "You tell Python exactly how to convert one data type to another.\n",
        "\n",
        "Necessary when Python can't or won’t convert on its own.\n",
        "\n",
        "11. **What is the purpose of conditional statements in Python?**  \n",
        "\n",
        "-  Conditional statements in Python are used to control the flow of your program based on conditions. They allow your program to make decisions—just like how we make choices in real life:\n",
        "  \"If it's raining, take an umbrella. Otherwise, wear sunglasses.\"\n",
        "\n",
        "12. **How does the elif statement work?**\n",
        "\n",
        "-  The elif (short for \"else if\") statement is used in Python to check multiple conditions—one after the other—when the first if condition is False.\n",
        "\n",
        "It provides a way to chain multiple conditions, making your code more readable and efficient than writing multiple separate if statements.\n",
        "\n",
        "Python checks conditions top to bottom:\n",
        "\n",
        " If the first if condition is True, it runs that block and skips all others.\n",
        "\n",
        " If it's False, it checks each elif condition in order.\n",
        "\n",
        " The first elif that is True will run.\n",
        "\n",
        " If none are True, the else block runs (if present).\n",
        "\n",
        " 13. **What is the difference between for and while loops?**\n",
        " -   Both for and while loops are used for repeating code, but they are suited for different situations.\n",
        "\n",
        " for Loop – Use When You Know in Advance How Many Times to Loop\n",
        "Iterates over a sequence (like a list, string, or range).\n",
        "\n",
        " while Loop – Use When You Don’t Know How Many Times to Loop\n",
        "Repeats as long as a condition is True.\n",
        "\n",
        "14.  **Describe a scenario where a while loop is more suitable than a for loop**\n",
        "\n",
        "-   A while loop is more suitable than a for loop when you don’t know in advance how many times the loop will run—like when you're waiting for a user to enter valid input.\n",
        "\n",
        "Example - Suppose you're building a simple login check where the program should keep asking for a password until the user gets it right.\n",
        "\n",
        "correct_password = \"python123\"\n",
        "\n",
        "user_input = \"\"\n",
        "\n",
        "while user_input != correct_password:\n",
        "    \n",
        "    user_input = input(\"Enter your password: \")\n",
        "\n",
        "print(\"Access granted.\")"
      ],
      "metadata": {
        "id": "rOBcKZJ1JsXR"
      }
    },
    {
      "cell_type": "markdown",
      "source": [
        "#Practical Questions"
      ],
      "metadata": {
        "id": "joT78zziX8du"
      }
    },
    {
      "cell_type": "code",
      "execution_count": null,
      "metadata": {
        "colab": {
          "base_uri": "https://localhost:8080/"
        },
        "id": "kBoKlzsCsmpG",
        "outputId": "fa6c4a1b-13d1-4311-a718-54c2f1f8bf4d"
      },
      "outputs": [
        {
          "output_type": "stream",
          "name": "stdout",
          "text": [
            "Hello, World\n"
          ]
        }
      ],
      "source": [
        "#Write a Python program to print \"Hello, World!\n",
        "\n",
        "print (\"Hello, World\")"
      ]
    },
    {
      "cell_type": "code",
      "source": [
        "#Write a Python program that displays your name and age\n",
        "\n",
        "# Define the name and age\n",
        "name = \"Nandini\"\n",
        "age = 32\n",
        "print(\"Name:\", name)\n",
        "print(\"Age:\", age)"
      ],
      "metadata": {
        "colab": {
          "base_uri": "https://localhost:8080/"
        },
        "id": "ePI4rSf8tP9d",
        "outputId": "5eee3918-234b-42d0-fdfa-6d7dadcce31b"
      },
      "execution_count": null,
      "outputs": [
        {
          "output_type": "stream",
          "name": "stdout",
          "text": [
            "Name: Nandini\n",
            "Age: 32\n"
          ]
        }
      ]
    },
    {
      "cell_type": "code",
      "source": [
        "#Write code to print all the pre-defined keywords in Python using the keyword library\n",
        "\n",
        "help('keywords')"
      ],
      "metadata": {
        "colab": {
          "base_uri": "https://localhost:8080/"
        },
        "id": "_TRtgqIavYDd",
        "outputId": "52fe371d-cd33-4084-db18-ce221a71fdaf"
      },
      "execution_count": null,
      "outputs": [
        {
          "output_type": "stream",
          "name": "stdout",
          "text": [
            "\n",
            "Here is a list of the Python keywords.  Enter any keyword to get more help.\n",
            "\n",
            "False               class               from                or\n",
            "None                continue            global              pass\n",
            "True                def                 if                  raise\n",
            "and                 del                 import              return\n",
            "as                  elif                in                  try\n",
            "assert              else                is                  while\n",
            "async               except              lambda              with\n",
            "await               finally             nonlocal            yield\n",
            "break               for                 not                 \n",
            "\n"
          ]
        }
      ]
    },
    {
      "cell_type": "code",
      "source": [
        "#Write a program that checks if a given word is a Python keyword.\n",
        "\n",
        "import keyword\n",
        "\n",
        "def is_keyword(word):\n",
        "    return keyword.iskeyword(word)\n",
        "\n",
        "word = input(\"Enter a word to check if it's a Python keyword: \")\n",
        "\n",
        "if is_keyword(word):\n",
        "  print(f\"'{word}'is a Python keyword.\")\n",
        "\n",
        "else:\n",
        "  print(f\"'{word}'is not a Python keyword.\")\n"
      ],
      "metadata": {
        "colab": {
          "base_uri": "https://localhost:8080/"
        },
        "id": "aK8gockDZWt5",
        "outputId": "92b046aa-37da-45d0-b4a1-337220cd3319"
      },
      "execution_count": null,
      "outputs": [
        {
          "output_type": "stream",
          "name": "stdout",
          "text": [
            "Enter a word to check if it's a Python keyword: class\n",
            "'class'is a Python keyword.\n"
          ]
        }
      ]
    },
    {
      "cell_type": "code",
      "source": [
        "#  Create a list and tuple in Python, and demonstrate how attempting to change an element works differently for each.\n",
        "\n",
        "my_list = [30, 40, 50]\n",
        "my_tuple = (30, 40, 50)\n",
        "\n",
        "# Try changing the second element in the list\n",
        "my_list[1] = 99\n",
        "print(\"Modified list:\", my_list)  # This works\n",
        "\n",
        "# Try changing the second element in the tuple\n",
        "try:\n",
        "    my_tuple[1] = 99\n",
        "except TypeError as e:\n",
        "  print(\"Error when modifying tuple:\", e)"
      ],
      "metadata": {
        "id": "r_DfHJ89gCde",
        "colab": {
          "base_uri": "https://localhost:8080/"
        },
        "outputId": "ff3dd00e-2d8b-4cef-998c-f3ec7a623e82"
      },
      "execution_count": null,
      "outputs": [
        {
          "output_type": "stream",
          "name": "stdout",
          "text": [
            "Modified list: [30, 99, 50]\n",
            "Error when modifying tuple: 'tuple' object does not support item assignment\n"
          ]
        }
      ]
    },
    {
      "cell_type": "code",
      "source": [
        "#Write a function to demonstrate the behavior of mutable and immutable arguments\n",
        "\n",
        "def demonstrate_mutable_immutable(immutable_arg, mutable_arg):\n",
        "  print(\"Inside function BEFORE modification:\")\n",
        "  print(\"immutable_arg:\", immutable_arg)\n",
        "  print(\"mutable_arg:\", mutable_arg)\n",
        "\n",
        "  immutable_arg += 1\n",
        "  mutable_arg.append(\"new\")\n",
        "\n",
        "  print(\"\\nInside function AFTER modification:\")\n",
        "  print(\"immutable_arg:\", immutable_arg)\n",
        "  print(\"mutable_arg:\", mutable_arg)\n",
        "\n",
        "immutable_value = 35\n",
        "mutable_value = [\"original\"]\n",
        "\n",
        "demonstrate_mutable_immutable(immutable_value, mutable_value)\n",
        "\n",
        "print(\"\\nOutside function AFTER function call:\")\n",
        "print(\"immutable_value:\", immutable_value)\n",
        "print(\"mutable_value:\", mutable_value)"
      ],
      "metadata": {
        "colab": {
          "base_uri": "https://localhost:8080/"
        },
        "id": "RZcmsAn8IOtR",
        "outputId": "515b1ca3-9441-4390-bbd6-61ada6469c67"
      },
      "execution_count": null,
      "outputs": [
        {
          "output_type": "stream",
          "name": "stdout",
          "text": [
            "Inside function BEFORE modification:\n",
            "immutable_arg: 35\n",
            "mutable_arg: ['original']\n",
            "\n",
            "Inside function AFTER modification:\n",
            "immutable_arg: 36\n",
            "mutable_arg: ['original', 'new']\n",
            "\n",
            "Outside function AFTER function call:\n",
            "immutable_value: 35\n",
            "mutable_value: ['original', 'new']\n"
          ]
        }
      ]
    },
    {
      "cell_type": "code",
      "source": [
        "#Write a program that performs basic arithmetic operations on two user-input numbers.\n",
        "\n",
        "try:\n",
        "    num1 = float(input(\"Enter the first number: \"))\n",
        "    num2 = float(input(\"Enter the second number: \"))\n",
        "\n",
        "    addition = num1 + num2\n",
        "    subtraction = num1 - num2\n",
        "    multiplication = num1 * num2\n",
        "\n",
        "    try:\n",
        "        division = num1 / num2\n",
        "    except ZeroDivisionError:\n",
        "        division = \"Undefined (division by zero)\"\n",
        "\n",
        "    print(\"\\nArithmetic Operations Results:\")\n",
        "    print(f\"Addition: {num1} + {num2} = {addition}\")\n",
        "    print(f\"Subtraction: {num1} - {num2} = {subtraction}\")\n",
        "    print(f\"Multiplication: {num1} * {num2} = {multiplication}\")\n",
        "    print(f\"Division: {num1} / {num2} = {division}\")\n",
        "\n",
        "except ValueError:\n",
        "    print(\"Invalid input! Please enter numeric values.\")\n"
      ],
      "metadata": {
        "colab": {
          "base_uri": "https://localhost:8080/"
        },
        "id": "wp6JwaXOMO63",
        "outputId": "aa9aad44-31f3-4f15-dd53-bbadc8b4794c"
      },
      "execution_count": 14,
      "outputs": [
        {
          "output_type": "stream",
          "name": "stdout",
          "text": [
            "Enter the first number: 45\n",
            "Enter the second number: 5\n",
            "\n",
            "Arithmetic Operations Results:\n",
            "Addition: 45.0 + 5.0 = 50.0\n",
            "Subtraction: 45.0 - 5.0 = 40.0\n",
            "Multiplication: 45.0 * 5.0 = 225.0\n",
            "Division: 45.0 / 5.0 = 9.0\n"
          ]
        }
      ]
    },
    {
      "cell_type": "code",
      "source": [
        "#Write a program to demonstrate the use of logical operators.\n",
        "\n",
        "a = True\n",
        "b = False\n",
        "print(\"Logical Operators Demonstration\\n\")\n",
        "print(\"a AND b =\", a and b)\n",
        "print(\"a AND True =\", a and True)\n",
        "print(\"a OR b =\", a or b)\n",
        "print(\"b OR False =\", b or False)\n",
        "print(\"NOT a =\", not a)\n",
        "print(\"NOT b =\", not b)\n",
        "print(\"a AND (NOT b) =\", a and (not b))\n",
        "print(\"b OR (a AND b) =\", b or (a and b))"
      ],
      "metadata": {
        "colab": {
          "base_uri": "https://localhost:8080/"
        },
        "id": "KHFsPtpifG7n",
        "outputId": "7fa4f42f-287f-40a7-efcf-42684fcc0a05"
      },
      "execution_count": 1,
      "outputs": [
        {
          "output_type": "stream",
          "name": "stdout",
          "text": [
            "Logical Operators Demonstration\n",
            "\n",
            "a AND b = False\n",
            "a AND True = True\n",
            "a OR b = True\n",
            "b OR False = False\n",
            "NOT a = False\n",
            "NOT b = True\n",
            "a AND (NOT b) = True\n",
            "b OR (a AND b) = False\n"
          ]
        }
      ]
    },
    {
      "cell_type": "code",
      "source": [
        "#Write a Python program to convert user input from string to integer, float, and boolean types.\n",
        "\n",
        "user_input = input(\"Enter a value: \")\n",
        "\n",
        "print(\"\\nConversion Results:\")\n",
        "\n",
        "try:\n",
        "    int_value = int(user_input)\n",
        "    print(\"Integer conversion:\", int_value)\n",
        "except ValueError:\n",
        "    print(\"Integer conversion: Invalid input (not an integer)\")\n",
        "\n",
        "try:\n",
        "    float_value = float(user_input)\n",
        "    print(\"Float conversion:\", float_value)\n",
        "except ValueError:\n",
        "    print(\"Float conversion: Invalid input (not a float)\")\n",
        "\n",
        "bool_value = user_input.strip().lower() not in [\"\", \"0\", \"false\", \"none\"]\n",
        "print(\"Boolean conversion:\", bool_value)\n"
      ],
      "metadata": {
        "colab": {
          "base_uri": "https://localhost:8080/"
        },
        "id": "QoxcG7irf4oD",
        "outputId": "09a907ba-08c6-43b6-d977-b484f58aa983"
      },
      "execution_count": 3,
      "outputs": [
        {
          "output_type": "stream",
          "name": "stdout",
          "text": [
            "Enter a value: 72\n",
            "\n",
            "Conversion Results:\n",
            "Integer conversion: 72\n",
            "Float conversion: 72.0\n",
            "Boolean conversion: True\n"
          ]
        }
      ]
    },
    {
      "cell_type": "code",
      "source": [
        "#Write code to demonstrate type casting with list elements.\n",
        "\n",
        "str_list = [\"15\", \"39.5\", \"0\", \"True\", \"False\", \"hello\"]\n",
        "\n",
        "print(\"Original List:\")\n",
        "print(str_list)\n",
        "\n",
        "int_list = []\n",
        "for item in str_list:\n",
        "    try:\n",
        "        int_list.append(int(float(item)))\n",
        "    except ValueError:\n",
        "        int_list.append(None)\n",
        "\n",
        "print(\"\\nList after casting to integers (unconvertible items as None):\")\n",
        "print(int_list)\n",
        "\n",
        "float_list = []\n",
        "for item in str_list:\n",
        "    try:\n",
        "        float_list.append(float(item))\n",
        "    except ValueError:\n",
        "        float_list.append(None)\n",
        "\n",
        "print(\"\\nList after casting to floats (unconvertible items as None):\")\n",
        "print(float_list)\n",
        "\n",
        "bool_list = []\n",
        "for item in str_list:\n",
        "    if item.strip().lower() in [\"\", \"0\", \"false\", \"none\"]:\n",
        "        bool_list.append(False)\n",
        "    else:\n",
        "        bool_list.append(True)\n",
        "\n",
        "print(\"\\nList after casting to booleans:\")\n",
        "print(bool_list)\n"
      ],
      "metadata": {
        "colab": {
          "base_uri": "https://localhost:8080/"
        },
        "id": "HlCrC280gVzZ",
        "outputId": "54b8c591-0551-4e8c-f050-4da333ceb44d"
      },
      "execution_count": 5,
      "outputs": [
        {
          "output_type": "stream",
          "name": "stdout",
          "text": [
            "Original List:\n",
            "['15', '39.5', '0', 'True', 'False', 'hello']\n",
            "\n",
            "List after casting to integers (unconvertible items as None):\n",
            "[15, 39, 0, None, None, None]\n",
            "\n",
            "List after casting to floats (unconvertible items as None):\n",
            "[15.0, 39.5, 0.0, None, None, None]\n",
            "\n",
            "List after casting to booleans:\n",
            "[True, True, False, True, False, True]\n"
          ]
        }
      ]
    },
    {
      "cell_type": "code",
      "source": [
        "#Write a program that checks if a number is positive, negative, or zero.\n",
        "\n",
        "try:\n",
        "    num = float(input(\"Enter a number: \"))\n",
        "\n",
        "    if num > 0:\n",
        "        print(\"The number is positive.\")\n",
        "    elif num < 0:\n",
        "        print(\"The number is negative.\")\n",
        "    else:\n",
        "        print(\"The number is zero.\")\n",
        "\n",
        "except ValueError:\n",
        "    print(\"Invalid input! Please enter a numeric value.\")\n"
      ],
      "metadata": {
        "colab": {
          "base_uri": "https://localhost:8080/"
        },
        "id": "Kv05ZDZ1hLnW",
        "outputId": "2822787e-9402-45fe-9ac6-59f42012e552"
      },
      "execution_count": 13,
      "outputs": [
        {
          "output_type": "stream",
          "name": "stdout",
          "text": [
            "Enter a number: 23\n",
            "The number is positive.\n"
          ]
        }
      ]
    },
    {
      "cell_type": "code",
      "source": [
        " #Write a for loop to print numbers from 1 to 10.\n",
        "\n",
        " for i in range(1, 11):\n",
        "    print(i)"
      ],
      "metadata": {
        "colab": {
          "base_uri": "https://localhost:8080/"
        },
        "id": "iEPw1ha5velj",
        "outputId": "7912d762-84aa-4ba0-fd41-ee845cc21bfb"
      },
      "execution_count": null,
      "outputs": [
        {
          "output_type": "stream",
          "name": "stdout",
          "text": [
            "1\n",
            "2\n",
            "3\n",
            "4\n",
            "5\n",
            "6\n",
            "7\n",
            "8\n",
            "9\n",
            "10\n"
          ]
        }
      ]
    },
    {
      "cell_type": "code",
      "source": [
        "#Write a Python program to find the sum of all even numbers between 1 and 50.\n",
        "\n",
        "even_sum = 0\n",
        "\n",
        "for num in range(1, 51):\n",
        "    if num % 2 == 0:\n",
        "        even_sum += num\n",
        "\n",
        "print(\"The sum of all even numbers between 1 and 50 is:\", even_sum)\n"
      ],
      "metadata": {
        "colab": {
          "base_uri": "https://localhost:8080/"
        },
        "id": "8DuJ-3qLiJik",
        "outputId": "0c35c614-e0d4-45f9-e3eb-5108a4ccfa91"
      },
      "execution_count": 15,
      "outputs": [
        {
          "output_type": "stream",
          "name": "stdout",
          "text": [
            "The sum of all even numbers between 1 and 50 is: 650\n"
          ]
        }
      ]
    },
    {
      "cell_type": "code",
      "source": [
        "# Write a program to reverse a string using a while loop.\n",
        "\n",
        "text = input(\"Enter a string to reverse: \")\n",
        "\n",
        "reversed_text = \"\"\n",
        "\n",
        "index = len(text) - 1\n",
        "\n",
        "while index >= 0:\n",
        "    reversed_text += text[index]\n",
        "    index -= 1\n",
        "\n",
        "print(\"Reversed string:\", reversed_text)\n",
        "\n"
      ],
      "metadata": {
        "colab": {
          "base_uri": "https://localhost:8080/"
        },
        "id": "n4uUm1agiUeB",
        "outputId": "c0ea7460-7c72-4628-ded0-c692536d2987"
      },
      "execution_count": 21,
      "outputs": [
        {
          "output_type": "stream",
          "name": "stdout",
          "text": [
            "Enter a string to reverse: Smile\n",
            "Reversed string: elimS\n"
          ]
        }
      ]
    },
    {
      "cell_type": "code",
      "source": [
        "# Write a Python program to calculate the factorial of a number provided by the user using a while loop.\n",
        "\n",
        "try:\n",
        "    num = int(input(\"Enter a non-negative integer: \"))\n",
        "\n",
        "    if num < 0:\n",
        "        print(\"Factorial is not defined for negative numbers.\")\n",
        "    else:\n",
        "        factorial = 1\n",
        "        counter = num\n",
        "\n",
        "        while counter > 1:\n",
        "            factorial *= counter\n",
        "            counter -= 1\n",
        "\n",
        "        print(f\"Factorial of {num} is: {factorial}\")\n",
        "\n",
        "except ValueError:\n",
        "    print(\"Invalid input! Please enter a valid integer.\")\n"
      ],
      "metadata": {
        "colab": {
          "base_uri": "https://localhost:8080/"
        },
        "id": "RHyASF5Fi9cF",
        "outputId": "1c73cd51-0815-4372-b88a-3e6bd81967d7"
      },
      "execution_count": 24,
      "outputs": [
        {
          "output_type": "stream",
          "name": "stdout",
          "text": [
            "Enter a non-negative integer: 9\n",
            "Factorial of 9 is: 362880\n"
          ]
        }
      ]
    }
  ]
}